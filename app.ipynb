{
 "cells": [
  {
   "cell_type": "code",
   "execution_count": 11,
   "id": "4e1c080e-2554-4cc3-a83b-dc48e6f0fe59",
   "metadata": {},
   "outputs": [],
   "source": [
    "from python import Python\n",
    "fn main() raises:\n",
    "    let py = Python.import_module('builtins')\n",
    "    let user_input = py.input('What is your favorite color?')\n",
    "    print('your favorite color is .. ', user_input)\n"
   ]
  },
  {
   "cell_type": "code",
   "execution_count": 12,
   "id": "7e637a12-fe8d-4572-b880-277be6817b11",
   "metadata": {},
   "outputs": [],
   "source": [
    "fn main():\n",
    "    let x: Int16 = 100\n",
    "    if x == 101:\n",
    "        print('true!')\n",
    "    elif x == 102:\n",
    "        print('x is 102')\n",
    "    else:\n",
    "        print('failed..')"
   ]
  },
  {
   "cell_type": "code",
   "execution_count": 9,
   "id": "185d7b80-4ac5-42bc-ac96-16ee722b1763",
   "metadata": {
    "collapsed": true,
    "jupyter": {
     "outputs_hidden": true
    }
   },
   "outputs": [],
   "source": [
    "fn main():\n",
    "    for i in range(10):\n",
    "        print(i)\n"
   ]
  },
  {
   "cell_type": "code",
   "execution_count": 10,
   "id": "56dc10e3-5bd6-45c7-bf90-4d425536f20c",
   "metadata": {
    "collapsed": true,
    "jupyter": {
     "outputs_hidden": true
    }
   },
   "outputs": [],
   "source": [
    "#While Loop\n",
    "fn main():\n",
    "    var x: Int8 = 0\n",
    "    while x < 10:\n",
    "        x += 1\n",
    "        print(x)"
   ]
  },
  {
   "cell_type": "code",
   "execution_count": 13,
   "id": "6e1ca1c6-bb63-4445-a922-88008dd440b9",
   "metadata": {},
   "outputs": [],
   "source": [
    "fn main():\n",
    "    var x: Int8 = 0\n",
    "    while True:\n",
    "        x += 1\n",
    "        print(x)\n",
    "        if x >= 10:\n",
    "            break\n"
   ]
  },
  {
   "cell_type": "code",
   "execution_count": 14,
   "id": "b9273b02-4db7-4508-9b3d-17be0ba8b907",
   "metadata": {},
   "outputs": [],
   "source": [
    "from python import PythonObject\n",
    "fn main() raises:\n",
    "    let x: PythonObject = [2, 4, 6, 8, 10]\n",
    "    print(x[3])\n",
    "    for i in range(x.__len__()):\n",
    "        print(x[i])"
   ]
  },
  {
   "cell_type": "code",
   "execution_count": 15,
   "id": "4ff67cee-f6fd-4411-a5f4-8dcc2d314fe3",
   "metadata": {},
   "outputs": [],
   "source": [
    "fn addNumbers(a: Int, b: Int) -> Int:\n",
    "    let c: Int = a + b\n",
    "    return c\n",
    "fn main():\n",
    "    let x: Int = addNumbers(2, 18)\n",
    "    print(x)"
   ]
  },
  {
   "cell_type": "code",
   "execution_count": 16,
   "id": "853bb7c3-e99a-4661-8d0a-6bebb8512899",
   "metadata": {},
   "outputs": [],
   "source": [
    "struct Banana:\n",
    "    var Rype: Bool \n",
    "    var Length: Float32\n",
    "    var Color: String \n",
    "    fn __init__(inout self, Rype: Bool, Length: Float32, Color: String):\n",
    "        self.Rype = Rype\n",
    "        self.Length = Length\n",
    "        self.Color = Color\n",
    "\n",
    "    fn rype(self, rhs: Banana) -> Bool:\n",
    "        return self.Rype\n",
    "\n",
    "    fn length(self, rhs: Banana) -> Float32:\n",
    "        return self.Length\n",
    "\n",
    "    fn color(self, rhs: Banana) -> String:\n",
    "        return self.Color\n",
    "fn main():\n",
    "    let banana = Banana(False, 4.7, 'yellow')\n",
    "    \n",
    "    print(banana.rype(banana))"
   ]
  },
  {
   "cell_type": "code",
   "execution_count": 17,
   "id": "48f8910d-2412-4042-80d9-9954c8695a6e",
   "metadata": {},
   "outputs": [],
   "source": [
    "from python import Python\n",
    "\n",
    "fn main() raises:\n",
    "    let np = Python.import_module('numpy')\n",
    "    let arr = np.array([1, 4, 9, 16])\n",
    "    print(arr * 2)\n"
   ]
  },
  {
   "cell_type": "code",
   "execution_count": 19,
   "id": "faf24dc2-0b11-4f37-bdfc-06d968b3d1e7",
   "metadata": {},
   "outputs": [],
   "source": [
    "from python import Python\n",
    "\n",
    "fn main() raises:\n",
    "    #raises: except, try and finally \n",
    "    try:\n",
    "        print('open file')\n",
    "    except:\n",
    "        raise Error('encoding is messy')\n",
    "    finally:\n",
    "        print('file closed')\n",
    "\n",
    "    print('try to close file... ')"
   ]
  },
  {
   "cell_type": "code",
   "execution_count": 20,
   "id": "2a5238bb-61dc-4da1-adb3-d841f2afaf8a",
   "metadata": {},
   "outputs": [],
   "source": [
    "fn add_nums(borrowed a: Int8, borrowed b: Int8) -> Int8:\n",
    "    \n",
    "    return a + b\n",
    "\n",
    "fn main():\n",
    "    let a: Int8 = 4\n",
    "    let b: Int8 = 5\n",
    "    print(add_nums(a, b))"
   ]
  },
  {
   "cell_type": "code",
   "execution_count": null,
   "id": "fee04be7-6db5-4230-a4a2-ad0e1df39640",
   "metadata": {},
   "outputs": [
    {
     "name": "stderr",
     "output_type": "stream",
     "text": [
      "error: \u001b[0;1;31m\u001b[1mExpression [21]:9:19: \u001b[0m\u001b[1mambiguous call to 'add_nums', each candidate requires 0 implicit conversions, disambiguate with an explicit cast\n",
      "\u001b[0m    print(add_nums(a, b))\n",
      "\u001b[0;1;32m          ~~~~~~~~^~~~~~\n",
      "\u001b[0m\u001b[0m\n",
      "\u001b[0;1;30m\u001b[1mExpression [21]:1:1: \u001b[0m\u001b[1mcandidate declared here\n",
      "\u001b[0mfn add_nums(inout a: Int8, inout b: Int8) -> Int8:\n",
      "\u001b[0;1;32m^\n",
      "\u001b[0m\u001b[0m\n",
      "\u001b[0;1;30m\u001b[1mExpression [20]:1:1: \u001b[0m\u001b[1mcandidate declared here\n",
      "\u001b[0mfn add_nums(borrowed a: Int8, borrowed b: Int8) -> Int8:\n",
      "\u001b[0;1;32m^\n",
      "\u001b[0m\u001b[0m\n",
      "expression failed to parse (no further compiler diagnostics)"
     ]
    }
   ],
   "source": [
    "fn add_nums(inout a: Int8, inout b: Int8) -> Int8:\n",
    "    a = 3\n",
    "    b = 2\n",
    "    return a + b\n",
    "\n",
    "fn main():\n",
    "    var a: Int8 = 4\n",
    "    var b: Int8 = 5\n",
    "    print(add_nums(a, b))"
   ]
  },
  {
   "cell_type": "code",
   "execution_count": 22,
   "id": "6c036416-c4d1-4ace-a5e3-cf581a946144",
   "metadata": {},
   "outputs": [],
   "source": [
    "fn add_nums(owned a: Int8, owned b: Int8) -> Int8:\n",
    "    a = 3\n",
    "    b = 2\n",
    "    return a + b\n",
    "\n",
    "fn main():\n",
    "    let a: Int8 = 4\n",
    "    let b: Int8 = 5\n",
    "    print(add_nums(a, b))\n"
   ]
  },
  {
   "cell_type": "code",
   "execution_count": null,
   "id": "9d519183-c7af-4b60-b2d9-d9953bab8d4e",
   "metadata": {},
   "outputs": [
    {
     "name": "stderr",
     "output_type": "stream",
     "text": [
      "error: \u001b[0;1;31m\u001b[1mExpression [25]:5:12: \u001b[0m\u001b[1muse of unknown declaration 'x', 'fn' declarations require explicit variable declarations\n",
      "\u001b[0m    print (x)\n",
      "\u001b[0;1;32m           ^\n",
      "\u001b[0m\u001b[0m\n",
      "error: \u001b[0;1;31m\u001b[1mExpression [25]:6:12: \u001b[0m\u001b[1muse of unknown declaration 'print_y', 'fn' declarations require explicit variable declarations\n",
      "\u001b[0m    return print_y()\n",
      "\u001b[0;1;32m           ^~~~~~~\n",
      "\u001b[0m\u001b[0m\n",
      "expression failed to parse (no further compiler diagnostics)"
     ]
    }
   ],
   "source": [
    "let x = 3\n",
    "\n",
    "fn main():\n",
    "    let y = 4 \n",
    "    print (x)\n",
    "    return print_y()\n",
    "\n",
    "#fn print_y():\n",
    "#    return y"
   ]
  },
  {
   "cell_type": "code",
   "execution_count": 26,
   "id": "5e0a6bcb-310a-4563-881a-56329ebcc915",
   "metadata": {},
   "outputs": [],
   "source": [
    "## Speed Test \n",
    "from python import Python\n",
    "\n",
    "fn main() raises:\n",
    "    let torch = Python.import_module('torch')\n",
    "    let time = Python.import_module('time')\n",
    "\n",
    "    let device = 'cuda' if torch.cuda.is_available() else 'cpu'\n",
    "    print(device)\n",
    "\n",
    "    let size = (1000, 100, 100, 100)\n",
    "\n",
    "    let A_cpu = torch.randn(size)\n",
    "    let B_cpu = torch.randn(size)\n",
    "\n",
    "    let A_cuda = A_cpu.cuda()\n",
    "    let B_cuda = B_cpu.cuda()\n",
    "\n",
    "\n",
    "    var start_time = time.time()\n",
    "    let result_cpu = torch.matmul(A_cpu, B_cpu)\n",
    "    var end_time = time.time()\n",
    "    print(\"CPU Time: \", end_time - start_time ,\"seconds\")\n",
    "\n",
    "    start_time = time.time()\n",
    "    let result_cuda = torch.matmul(A_cuda, B_cuda)\n",
    "    end_time = time.time()\n",
    "    print(\"CUDA Time: \", end_time - start_time ,\"seconds\")"
   ]
  },
  {
   "cell_type": "code",
   "execution_count": 27,
   "id": "03f6d14f-6387-4f82-8fa6-fb323c17a1d1",
   "metadata": {},
   "outputs": [],
   "source": [
    "#Save file inside a directory 'mypackage'\n",
    "#create a file '__init__.mojo'\n",
    "#write below code and save file as 'mymodule.mojo'\n",
    "struct MyPair:\n",
    "    var first: Int\n",
    "    var second: Int\n",
    "\n",
    "    fn __init__(inout self, first: Int, second: Int):\n",
    "        self.first = first\n",
    "        self.second = second\n",
    "\n",
    "    fn dump(self):\n",
    "        print(self.first, self.second)\n",
    "#on terminal 'mojo package mypackage -o testpack.mojopkg'"
   ]
  },
  {
   "cell_type": "code",
   "execution_count": 28,
   "id": "f7080f99-2c0a-439d-874e-818dc2c11e49",
   "metadata": {},
   "outputs": [],
   "source": [
    "from testpack.mymodule import MyPair\n",
    "\n",
    "fn main():\n",
    "    let mine = MyPair(2, 4)\n",
    "    mine.dump()"
   ]
  },
  {
   "cell_type": "code",
   "execution_count": 29,
   "id": "be1ba621-c739-4458-9cdb-1b7eab7d8ebb",
   "metadata": {},
   "outputs": [],
   "source": [
    "fn main():\n",
    "    let x = SIMD[DType.float16, 4](1, 4, 9, 16)\n",
    "    print(x*2)"
   ]
  },
  {
   "cell_type": "code",
   "execution_count": 31,
   "id": "455101e8-3d8b-429f-8b0b-146ffc1ffdb4",
   "metadata": {},
   "outputs": [],
   "source": [
    "fn main():\n",
    "    let x = SIMD[DType.float16, 4](1, 4, 9, 16)\n",
    "    print(x.__len__())"
   ]
  },
  {
   "cell_type": "code",
   "execution_count": 33,
   "id": "9cace54c-e7e8-491d-8b81-7d74b48b7a47",
   "metadata": {},
   "outputs": [],
   "source": [
    "fn add[datatype: DType, length: Int](a: SIMD[datatype, length], b: SIMD[datatype, length]) -> SIMD[datatype, length]:\n",
    "    return a / b \n",
    "fn main():\n",
    "    let x = SIMD[DType.float16, 4](1, 4, 9, 16)\n",
    "    print(add(x, x))"
   ]
  },
  {
   "cell_type": "code",
   "execution_count": 34,
   "id": "819dcd05-cae8-4f75-ac55-0120a61a1a45",
   "metadata": {},
   "outputs": [],
   "source": [
    "%%python\n",
    "def matmul_python(C, A, B):\n",
    "    for m in range(C.rows):\n",
    "        for k in range(A.cols):\n",
    "            for n in range(C.cols):\n",
    "                C[m, n] += A[m, k] * B[k, n]"
   ]
  },
  {
   "cell_type": "code",
   "execution_count": 35,
   "id": "edd8ed93-177f-4344-9d20-60016b25aca7",
   "metadata": {},
   "outputs": [],
   "source": [
    "%%python\n",
    "import numpy as np\n",
    "from timeit import timeit\n",
    "\n",
    "class Matrix:\n",
    "    def __init__(self, value, rows, cols):\n",
    "        self.value = value\n",
    "        self.rows = rows\n",
    "        self.cols = cols\n",
    "        \n",
    "    def __getitem__(self, idxs):\n",
    "        return self.value[idxs[0]][idxs[1]]\n",
    "    \n",
    "    def __setitem__(self, idxs, value):\n",
    "        self.value[idxs[0]][idxs[1]] = value\n",
    "\n",
    "def benchmark_matmul_python(M, N, K):\n",
    "    A = Matrix(list(np.random.rand(M, K)), M, K)\n",
    "    B = Matrix(list(np.random.rand(K, N)), K, N)\n",
    "    C = Matrix(list(np.zeros((M, N))), M, N)\n",
    "    secs = timeit(lambda: matmul_python(C, A, B), number=2)/2\n",
    "    gflops = ((2*M*N*K)/secs) / 1e9\n",
    "    print(gflops, \"GFLOP/s\")\n",
    "    return gflops"
   ]
  },
  {
   "cell_type": "code",
   "execution_count": 36,
   "id": "49cc76ed-49cf-45bc-b607-9cb279732173",
   "metadata": {},
   "outputs": [
    {
     "name": "stdout",
     "output_type": "stream",
     "text": [
      "0.0013300248113779273 GFLOP/s\n"
     ]
    }
   ],
   "source": [
    "python_gflops = benchmark_matmul_python(128, 128, 128).to_float64()"
   ]
  },
  {
   "cell_type": "code",
   "execution_count": 37,
   "id": "9180d82c-f422-4040-ac10-2f5ac4c15400",
   "metadata": {},
   "outputs": [],
   "source": [
    "from benchmark import Benchmark\n",
    "from sys.intrinsics import strided_load\n",
    "from utils.list import VariadicList\n",
    "from math import div_ceil, min\n",
    "from memory import memset_zero\n",
    "from memory.unsafe import DTypePointer\n",
    "from random import rand, random_float64\n",
    "from sys.info import simdwidthof\n",
    "from runtime.llcl import Runtime"
   ]
  },
  {
   "cell_type": "code",
   "execution_count": 38,
   "id": "7e214ecc-9bfe-477f-a25d-f85b315b6601",
   "metadata": {},
   "outputs": [],
   "source": [
    "# This exactly the same Python implementation, \n",
    "# but is infact Mojo code!\n",
    "def matmul_untyped(C, A, B):\n",
    "    for m in range(C.rows):\n",
    "        for k in range(A.cols):\n",
    "            for n in range(C.cols):\n",
    "                C[m, n] += A[m, k] * B[k, n]"
   ]
  },
  {
   "cell_type": "code",
   "execution_count": 39,
   "id": "6e1bb90b-a270-448b-9f66-13649a1c0556",
   "metadata": {},
   "outputs": [],
   "source": [
    "fn matrix_getitem(self: object, i: object) raises -> object:\n",
    "    return self.value[i]\n",
    "\n",
    "\n",
    "fn matrix_setitem(self: object, i: object, value: object) raises -> object:\n",
    "    self.value[i] = value\n",
    "    return None\n",
    "\n",
    "\n",
    "fn matrix_append(self: object, value: object) raises -> object:\n",
    "    self.value.append(value)\n",
    "    return None\n",
    "\n",
    "\n",
    "fn matrix_init(rows: Int, cols: Int) raises -> object:\n",
    "    let value = object([])\n",
    "    return object(\n",
    "        Attr(\"value\", value), Attr(\"__getitem__\", matrix_getitem), Attr(\"__setitem__\", matrix_setitem), \n",
    "        Attr(\"rows\", rows), Attr(\"cols\", cols), Attr(\"append\", matrix_append),\n",
    "    )\n",
    "\n",
    "def benchmark_matmul_untyped(M: Int, N: Int, K: Int, python_gflops: Float64):\n",
    "    C = matrix_init(M, N)\n",
    "    A = matrix_init(M, K)\n",
    "    B = matrix_init(K, N)\n",
    "    for i in range(M):\n",
    "        c_row = object([])\n",
    "        b_row = object([])\n",
    "        a_row = object([])\n",
    "        for j in range(N):\n",
    "            c_row.append(0.0)\n",
    "            b_row.append(random_float64(-5, 5))\n",
    "            a_row.append(random_float64(-5, 5))\n",
    "        C.append(c_row)\n",
    "        B.append(b_row)\n",
    "        A.append(a_row)\n",
    "\n",
    "    @parameter\n",
    "    fn test_fn():\n",
    "        try:\n",
    "            _ = matmul_untyped(C, A, B)\n",
    "        except:\n",
    "            pass\n",
    "\n",
    "    let secs = Float64(Benchmark().run[test_fn]()) / 1_000_000_000\n",
    "    _ = (A, B, C)\n",
    "    let gflops = ((2*M*N*K)/secs) / 1e9\n",
    "    let speedup : Float64 = gflops / python_gflops\n",
    "    print(gflops, \"GFLOP/s, a\", speedup.value, \"x speedup over Python\")"
   ]
  },
  {
   "cell_type": "code",
   "execution_count": 40,
   "id": "ea5ed9e3-e163-4417-8963-7a1182bb3558",
   "metadata": {},
   "outputs": [
    {
     "name": "stdout",
     "output_type": "stream",
     "text": [
      "0.0085376653925555487 GFLOP/s, a 6.4191775367787232 x speedup over Python\n"
     ]
    }
   ],
   "source": [
    "benchmark_matmul_untyped(128, 128, 128, python_gflops)"
   ]
  },
  {
   "cell_type": "code",
   "execution_count": 41,
   "id": "7e06ac58-e042-4e6c-9c8b-80d95c90c728",
   "metadata": {},
   "outputs": [],
   "source": [
    "struct Matrix:\n",
    "    var data: DTypePointer[DType.float32]\n",
    "    var rows: Int\n",
    "    var cols: Int\n",
    "\n",
    "    fn __init__(inout self, rows: Int, cols: Int):\n",
    "        self.data = DTypePointer[DType.float32].alloc(rows * cols)\n",
    "        rand(self.data, rows*cols)\n",
    "        self.rows = rows\n",
    "        self.cols = cols\n",
    "\n",
    "    fn __del__(owned self):\n",
    "        self.data.free()\n",
    "\n",
    "    fn zero(inout self):\n",
    "        memset_zero(self.data, self.rows * self.cols)\n",
    "\n",
    "    @always_inline\n",
    "    fn __getitem__(self, y: Int, x: Int) -> Float32:\n",
    "        return self.load[1](y, x)\n",
    "\n",
    "    @always_inline\n",
    "    fn load[nelts:Int](self, y: Int, x: Int) -> SIMD[DType.float32, nelts]:\n",
    "        return self.data.simd_load[nelts](y * self.cols + x)\n",
    "\n",
    "    @always_inline\n",
    "    fn __setitem__(self, y: Int, x: Int, val: Float32):\n",
    "        return self.store[1](y, x, val)\n",
    "\n",
    "    @always_inline\n",
    "    fn store[nelts:Int](self, y: Int, x: Int, val: SIMD[DType.float32, nelts]):\n",
    "        self.data.simd_store[nelts](y * self.cols + x, val)"
   ]
  },
  {
   "cell_type": "code",
   "execution_count": 42,
   "id": "341a4ad2-1de9-4d10-9348-7b610509d416",
   "metadata": {},
   "outputs": [],
   "source": [
    "# Note that C, A, and B have types.\n",
    "fn matmul_naive(C: Matrix, A: Matrix, B: Matrix):\n",
    "    for m in range(C.rows):\n",
    "        for k in range(A.cols):\n",
    "            for n in range(C.cols):\n",
    "                C[m, n] += A[m, k] * B[k, n]"
   ]
  },
  {
   "cell_type": "code",
   "execution_count": 43,
   "id": "2d687626-aab3-4746-9453-b4c2b488e5ad",
   "metadata": {},
   "outputs": [],
   "source": [
    "@always_inline\n",
    "fn benchmark[\n",
    "    func: fn (Matrix, Matrix, Matrix) -> None\n",
    "](M: Int, N: Int, K: Int, base_gflops: Float64):\n",
    "    var C = Matrix(M, N)\n",
    "    C.zero()\n",
    "    var A = Matrix(M, K)\n",
    "    var B = Matrix(K, N)\n",
    "\n",
    "    @always_inline\n",
    "    @parameter\n",
    "    fn test_fn():\n",
    "        _ = func(C, A, B)\n",
    "\n",
    "    let secs = Float64(Benchmark().run[test_fn]()) / 1_000_000_000\n",
    "    # Prevent the matrices from being freed before the benchmark run\n",
    "    _ = (A, B, C)\n",
    "    let gflops = ((2 * M * N * K) / secs) / 1e9\n",
    "    let speedup: Float64 = gflops / base_gflops\n",
    "    # print(gflops, \"GFLOP/s\", speedup, \" speedup\")\n",
    "    print(gflops, \"GFLOP/s, a\", speedup.value, \"x speedup over Python\")"
   ]
  },
  {
   "cell_type": "code",
   "execution_count": 44,
   "id": "e8ed706d-63ea-4940-885b-fcbffd451986",
   "metadata": {},
   "outputs": [
    {
     "name": "stdout",
     "output_type": "stream",
     "text": [
      "2.9194075655698355 GFLOP/s, a 2195.0023342386235 x speedup over Python\n"
     ]
    }
   ],
   "source": [
    "benchmark[matmul_naive](512, 512, 512, python_gflops)"
   ]
  },
  {
   "cell_type": "code",
   "execution_count": 45,
   "id": "0eb102be-2d40-4032-9508-6f1f36fd2a29",
   "metadata": {},
   "outputs": [],
   "source": [
    "# Mojo has SIMD vector types, we can vectorize the Matmul code as follows.\n",
    "alias nelts = simdwidthof[DType.float32]() # The SIMD vector width.\n",
    "fn matmul_vectorized_0(C: Matrix, A: Matrix, B: Matrix):\n",
    "    for m in range(C.rows):\n",
    "        for k in range(A.cols):\n",
    "            for nv in range(0, C.cols, nelts):\n",
    "                C.store[nelts](m,nv, C.load[nelts](m,nv) + A[m,k] * B.load[nelts](k,nv))\n",
    "        \n",
    "            # Handle remaining elements with scalars.\n",
    "            for n in range(nelts*(C.cols//nelts), C.cols):\n",
    "                C[m,n] += A[m,k] * B[k,n]"
   ]
  },
  {
   "cell_type": "code",
   "execution_count": 46,
   "id": "5e8620a3-9348-4b1b-a560-f6d3f90c64fc",
   "metadata": {},
   "outputs": [
    {
     "name": "stdout",
     "output_type": "stream",
     "text": [
      "12.729432340883314 GFLOP/s, a 9570.8232147153831 x speedup over Python\n"
     ]
    }
   ],
   "source": [
    "benchmark[matmul_vectorized_0](512, 512, 512, python_gflops)"
   ]
  },
  {
   "cell_type": "code",
   "execution_count": 47,
   "id": "4f81ac95-eae6-4c57-9a5a-442f01d78259",
   "metadata": {},
   "outputs": [],
   "source": [
    "# Simplify the code by using the builtin vectorize function\n",
    "from algorithm import vectorize\n",
    "fn matmul_vectorized_1(C: Matrix, A: Matrix, B: Matrix):\n",
    "    for m in range(C.rows):\n",
    "        for k in range(A.cols):\n",
    "            @parameter\n",
    "            fn dot[nelts : Int](n : Int):\n",
    "                C.store[nelts](m,n, C.load[nelts](m,n) + A[m,k] * B.load[nelts](k,n))\n",
    "            vectorize[nelts, dot](C.cols)"
   ]
  },
  {
   "cell_type": "code",
   "execution_count": 48,
   "id": "d028af47-c22e-4833-b9fa-134a2f01c2a6",
   "metadata": {},
   "outputs": [
    {
     "name": "stdout",
     "output_type": "stream",
     "text": [
      "12.429912978023076 GFLOP/s, a 9345.6248873624281 x speedup over Python\n"
     ]
    }
   ],
   "source": [
    "benchmark[matmul_vectorized_1](512, 512, 512, python_gflops)"
   ]
  },
  {
   "cell_type": "code",
   "execution_count": 49,
   "id": "0152bce3-a544-465e-82db-6c261f7df805",
   "metadata": {},
   "outputs": [],
   "source": [
    "@always_inline\n",
    "fn benchmark_parallel[\n",
    "    func: fn (Matrix, Matrix, Matrix, Runtime) -> None\n",
    "](M: Int, N: Int, K: Int, base_gflops: Float64):\n",
    "    var C = Matrix(M, N)\n",
    "    C.zero()\n",
    "    var A = Matrix(M, K)\n",
    "    var B = Matrix(K, N)\n",
    "\n",
    "    with Runtime() as rt:\n",
    "        @always_inline\n",
    "        @parameter\n",
    "        fn test_fn():\n",
    "            _ = func(C, A, B, rt)\n",
    "\n",
    "        let secs = Float64(Benchmark().run[test_fn]()) / 1_000_000_000\n",
    "        # Prevent the matrices from being freed before the benchmark run\n",
    "        _ = (A, B, C)\n",
    "        let gflops = ((2 * M * N * K) / secs) / 1e9\n",
    "        let speedup: Float64 = gflops / base_gflops\n",
    "        # print(gflops, \"GFLOP/s\", speedup, \" speedup\")\n",
    "        print(gflops, \"GFLOP/s, a\", speedup.value, \"x speedup over Python\")"
   ]
  },
  {
   "cell_type": "code",
   "execution_count": 50,
   "id": "dc0feaa8-8cf1-4273-8a86-5fada8db5b60",
   "metadata": {},
   "outputs": [],
   "source": [
    "# Parallelize the code by using the builtin parallelize function\n",
    "from algorithm import parallelize\n",
    "fn matmul_parallelized(C: Matrix, A: Matrix, B: Matrix, rt: Runtime):\n",
    "    @parameter\n",
    "    fn calc_row(m: Int):\n",
    "        for k in range(A.cols):\n",
    "            @parameter\n",
    "            fn dot[nelts : Int](n : Int):\n",
    "                C.store[nelts](m,n, C.load[nelts](m,n) + A[m,k] * B.load[nelts](k,n))\n",
    "            vectorize[nelts, dot](C.cols)\n",
    "        \n",
    "    parallelize[calc_row](rt, C.rows)"
   ]
  },
  {
   "cell_type": "code",
   "execution_count": 51,
   "id": "8b2f7eda-1cad-46cd-9233-e75ab62e26e9",
   "metadata": {},
   "outputs": [
    {
     "name": "stdout",
     "output_type": "stream",
     "text": [
      "20.070074185914212 GFLOP/s, a 15089.999836259663 x speedup over Python\n"
     ]
    }
   ],
   "source": [
    "benchmark_parallel[matmul_parallelized](512, 512, 512, python_gflops)"
   ]
  },
  {
   "cell_type": "code",
   "execution_count": 52,
   "id": "65dd8124-c90c-46e6-abd5-fc90b461e1a7",
   "metadata": {},
   "outputs": [],
   "source": [
    "from algorithm import Static2DTileUnitFunc as Tile2DFunc"
   ]
  },
  {
   "cell_type": "code",
   "execution_count": 53,
   "id": "ac86d5ed-6391-4612-9908-6852e43119d2",
   "metadata": {},
   "outputs": [],
   "source": [
    "# Perform 2D tiling on the iteration space defined by end_x and end_y.\n",
    "fn tile[tiled_fn: Tile2DFunc, tile_x: Int, tile_y: Int](end_x: Int, end_y: Int):\n",
    "    # Note: this assumes that ends are multiples of the tiles.\n",
    "    for y in range(0, end_y, tile_y):\n",
    "        for x in range(0, end_x, tile_x):\n",
    "            tiled_fn[tile_x, tile_y](x, y)"
   ]
  },
  {
   "cell_type": "code",
   "execution_count": 54,
   "id": "f9f2d609-f5fe-4712-ba0a-fe715e4867a9",
   "metadata": {},
   "outputs": [],
   "source": [
    "# Use the above tile function to perform tiled matmul.\n",
    "fn matmul_tiled_parallelized(C: Matrix, A: Matrix, B: Matrix, rt: Runtime):\n",
    "    @parameter\n",
    "    fn calc_row(m: Int):\n",
    "        @parameter\n",
    "        fn calc_tile[tile_x: Int, tile_y: Int](x: Int, y: Int):\n",
    "            for k in range(y, y + tile_y):\n",
    "                @parameter\n",
    "                fn dot[nelts : Int,](n : Int):\n",
    "                    C.store[nelts](m,n + x, C.load[nelts](m,n+x) + A[m,k] * B.load[nelts](k,n+x))\n",
    "                vectorize[nelts, dot](tile_x)\n",
    "\n",
    "        # We hardcode the tile factor to be 4.\n",
    "        alias tile_size = 4\n",
    "        tile[calc_tile, nelts * tile_size, tile_size](A.cols, C.cols)\n",
    "\n",
    "    parallelize[calc_row](rt, C.rows)"
   ]
  },
  {
   "cell_type": "code",
   "execution_count": 55,
   "id": "2eebb994-e742-4bef-9dda-f178324681bf",
   "metadata": {},
   "outputs": [
    {
     "name": "stdout",
     "output_type": "stream",
     "text": [
      "16.218596841658162 GFLOP/s, a 12194.206230525453 x speedup over Python\n"
     ]
    }
   ],
   "source": [
    "benchmark_parallel[matmul_tiled_parallelized](512, 512, 512, python_gflops)"
   ]
  },
  {
   "cell_type": "code",
   "execution_count": 56,
   "id": "d1e63e02-8a1c-439a-ab08-c55afac53093",
   "metadata": {},
   "outputs": [],
   "source": [
    "# Unroll the vectorized loop by a constant factor.\n",
    "from algorithm import vectorize_unroll\n",
    "fn matmul_tiled_unrolled_parallelized(C: Matrix, A: Matrix, B: Matrix, rt: Runtime):\n",
    "    @parameter\n",
    "    fn calc_row(m: Int):\n",
    "        @parameter\n",
    "        fn calc_tile[tile_x: Int, tile_y: Int](x: Int, y: Int):\n",
    "            for k in range(y, y + tile_y):\n",
    "                @parameter\n",
    "                fn dot[nelts : Int,](n : Int):\n",
    "                    C.store[nelts](m,n+x, C.load[nelts](m,n+x) + A[m,k] * B.load[nelts](k,n+x))\n",
    "\n",
    "                # Vectorize by nelts and unroll by tile_x/nelts\n",
    "                # Here unroll factor is 4\n",
    "                vectorize_unroll[nelts, tile_x//nelts, dot](tile_x)\n",
    "\n",
    "        alias tile_size = 4\n",
    "        tile[calc_tile, nelts*tile_size, tile_size](A.cols, C.cols)\n",
    "      \n",
    "    parallelize[calc_row](rt, C.rows)"
   ]
  },
  {
   "cell_type": "code",
   "execution_count": 57,
   "id": "319c1d76-4f53-4c39-bb3b-4064f58fb3d2",
   "metadata": {},
   "outputs": [
    {
     "name": "stdout",
     "output_type": "stream",
     "text": [
      "17.736401713173532 GFLOP/s, a 13335.391611828903 x speedup over Python\n"
     ]
    }
   ],
   "source": [
    "benchmark_parallel[matmul_tiled_unrolled_parallelized](512, 512, 512, python_gflops)"
   ]
  },
  {
   "cell_type": "code",
   "execution_count": 58,
   "id": "e4c0d155-3b60-422d-a34e-ed4d0f9fb7dd",
   "metadata": {},
   "outputs": [],
   "source": [
    "from autotune import autotune, search\n",
    "from time import now\n",
    "from memory.unsafe import Pointer\n",
    "\n",
    "alias matmul_fn_sig_type = fn(Matrix, Matrix, Matrix, Runtime) -> None"
   ]
  },
  {
   "cell_type": "code",
   "execution_count": 59,
   "id": "dff845d8-2224-45b9-b1eb-a25e875d2092",
   "metadata": {},
   "outputs": [],
   "source": [
    "# Autotune the tile size used in the matmul.\n",
    "@adaptive\n",
    "fn matmul_autotune_impl(C: Matrix, A: Matrix, B: Matrix, rt: Runtime):\n",
    "    @parameter\n",
    "    fn calc_row(m: Int):\n",
    "        @parameter\n",
    "        fn calc_tile[tile_x: Int, tile_y: Int](x: Int, y: Int):\n",
    "            for k in range(y, y + tile_y):\n",
    "                @parameter\n",
    "                fn dot[nelts : Int,](n : Int):\n",
    "                    C.store[nelts](m,n+x, C.load[nelts](m,n+x) + A[m,k] * B.load[nelts](k,n+x))\n",
    "                vectorize_unroll[nelts, tile_x // nelts, dot](tile_x)\n",
    "\n",
    "        # Instead of hardcoding to tile_size = 4, search for the fastest \n",
    "        # tile size by evaluting this function as tile size varies.\n",
    "        alias tile_size = autotune(1, 2, 4, 8, 16, 32)\n",
    "        tile[calc_tile, nelts * tile_size, tile_size](A.cols, C.cols)\n",
    "      \n",
    "    parallelize[calc_row](rt, C.rows)"
   ]
  },
  {
   "cell_type": "code",
   "execution_count": 60,
   "id": "f3e371d8-42e8-4ba9-96e4-1367e3a1b1ca",
   "metadata": {},
   "outputs": [],
   "source": [
    "fn matmul_evaluator(funcs: Pointer[matmul_fn_sig_type], size: Int) -> Int:\n",
    "    print(\"matmul_evaluator, number of candidates: \", size)\n",
    "\n",
    "    let eval_begin: Int = now()\n",
    "\n",
    "    # This size is picked at random, in real code we could use a real size\n",
    "    # distribution here.\n",
    "    let M = 512\n",
    "    let N = 512\n",
    "    let K = 512\n",
    "    print(\"Optimizing for size:\", M, \"x\", N, \"x\", K)\n",
    "\n",
    "    var best_idx: Int = -1\n",
    "    var best_time: Int = -1\n",
    "\n",
    "    alias eval_iterations = 10\n",
    "    alias eval_samples = 10\n",
    "\n",
    "    var C = Matrix(M, N)\n",
    "    var A = Matrix(M, K)\n",
    "    var B = Matrix(K, N)\n",
    "    let Cptr = Pointer[Matrix].address_of(C).address\n",
    "    let Aptr = Pointer[Matrix].address_of(A).address\n",
    "    let Bptr = Pointer[Matrix].address_of(B).address\n",
    "    with Runtime() as rt:\n",
    "        # Find the function that's the fastest on the size we're optimizing for\n",
    "        for f_idx in range(size):\n",
    "            let func = funcs.load(f_idx)\n",
    "\n",
    "            @always_inline\n",
    "            @parameter\n",
    "            fn wrapper():\n",
    "                func(C, A, B, rt)\n",
    "            let cur_time = Benchmark(1, 100_000, 500_000_000, 1000_000_000).run[wrapper]()\n",
    "\n",
    "            if best_idx < 0:\n",
    "                best_idx = f_idx\n",
    "                best_time = cur_time\n",
    "            if best_time > cur_time:\n",
    "                best_idx = f_idx\n",
    "                best_time = cur_time\n",
    "\n",
    "        let eval_end: Int = now()\n",
    "        # Prevent matrices from being destroyed before we finished benchmarking them.\n",
    "        _ = A.data\n",
    "        _ = B.data\n",
    "        _ = C.data\n",
    "        print(\"Time spent in matmul_evaluator, ms:\", (eval_end - eval_begin) // 1000000)\n",
    "        print(\"Best candidate idx:\", best_idx)\n",
    "        return best_idx"
   ]
  },
  {
   "cell_type": "code",
   "execution_count": null,
   "id": "dc06fe4b-6000-4588-a77f-5aff2d371012",
   "metadata": {},
   "outputs": [
    {
     "name": "stderr",
     "output_type": "stream",
     "text": [
      "error: \u001b[0;1;31m\u001b[1mExpression [61]:5:21: \u001b[0m\u001b[1mcannot pass 'VariadicList[fn(C = Matrix, A = Matrix, B = Matrix, rt = Runtime) -> None]' value, parameter expected 'VariadicList[fn(Matrix, Matrix, Matrix, Runtime) -> None]'\n",
      "\u001b[0m        VariadicList(matmul_autotune_impl.__adaptive_set),\n",
      "\u001b[0;1;32m        ~~~~~~~~~~~~^~~~~~~~~~~~~~~~~~~~~~~~~~~~~~~~~~~~~\n",
      "\u001b[0m\u001b[0m\n",
      "expression failed to parse (no further compiler diagnostics)"
     ]
    }
   ],
   "source": [
    "fn matmul_autotune(C: Matrix, A: Matrix, B: Matrix, rt: Runtime):\n",
    "    alias best_impl: matmul_fn_sig_type\n",
    "    search[\n",
    "        matmul_fn_sig_type,\n",
    "        VariadicList(matmul_autotune_impl.__adaptive_set),\n",
    "        matmul_evaluator -> best_impl\n",
    "    ]()\n",
    "    # Run the best candidate\n",
    "    return best_impl(C, A, B, rt)"
   ]
  },
  {
   "cell_type": "code",
   "execution_count": null,
   "id": "b561bea8-5980-4efa-9d95-5a3669a8dd34",
   "metadata": {},
   "outputs": [
    {
     "name": "stderr",
     "output_type": "stream",
     "text": [
      "error: \u001b[0;1;31m\u001b[1mExpression [62]:1:20: \u001b[0m\u001b[1muse of unknown declaration 'matmul_autotune'\n",
      "\u001b[0mbenchmark_parallel[matmul_autotune](512, 512, 512, python_gflops)\n",
      "\u001b[0;1;32m                   ^~~~~~~~~~~~~~~\n",
      "\u001b[0m\u001b[0m\n",
      "expression failed to parse (no further compiler diagnostics)"
     ]
    }
   ],
   "source": [
    "benchmark_parallel[matmul_autotune](512, 512, 512, python_gflops)"
   ]
  },
  {
   "cell_type": "code",
   "execution_count": null,
   "id": "d5476702-9cec-4887-9649-24f2f7c93c73",
   "metadata": {},
   "outputs": [],
   "source": []
  },
  {
   "cell_type": "code",
   "execution_count": null,
   "id": "6e1a0a32-a4ed-4d1c-a99c-fa7b9f2387b4",
   "metadata": {},
   "outputs": [],
   "source": []
  },
  {
   "cell_type": "code",
   "execution_count": null,
   "id": "72aac360-854b-4e7f-93df-8b8a75608d29",
   "metadata": {},
   "outputs": [],
   "source": []
  }
 ],
 "metadata": {
  "kernelspec": {
   "display_name": "Mojo",
   "language": "mojo",
   "name": "mojo-jupyter-kernel"
  },
  "language_info": {
   "codemirror_mode": {
    "name": "mojo"
   },
   "file_extension": ".mojo",
   "mimetype": "text/x-mojo",
   "name": "mojo"
  }
 },
 "nbformat": 4,
 "nbformat_minor": 5
}
